{
 "cells": [
  {
   "cell_type": "code",
   "execution_count": 3,
   "metadata": {},
   "outputs": [],
   "source": [
    "from IPython.display import HTML"
   ]
  },
  {
   "cell_type": "code",
   "execution_count": null,
   "metadata": {},
   "outputs": [],
   "source": []
  },
  {
   "cell_type": "code",
   "execution_count": 13,
   "metadata": {},
   "outputs": [
    {
     "data": {
      "text/plain": [
       "(1, 3)"
      ]
     },
     "execution_count": 13,
     "metadata": {},
     "output_type": "execute_result"
    }
   ],
   "source": [
    "import numpy as np\n",
    "a = [1, 2, 3]\n",
    "b = (1, 2, 3)\n",
    "c = np.array([2, 3, 4])\n",
    "c.reshape([1, -1]).shape"
   ]
  },
  {
   "cell_type": "code",
   "execution_count": 21,
   "metadata": {},
   "outputs": [
    {
     "data": {
      "text/plain": [
       "array([ 5,  5,  5, 10,  5, 10])"
      ]
     },
     "execution_count": 21,
     "metadata": {},
     "output_type": "execute_result"
    }
   ],
   "source": [
    "np.clip([2, 5, 3, 24, 5, 23], 5, 10)"
   ]
  },
  {
   "cell_type": "code",
   "execution_count": null,
   "metadata": {},
   "outputs": [],
   "source": []
  },
  {
   "cell_type": "code",
   "execution_count": 2,
   "metadata": {},
   "outputs": [],
   "source": [
    "from lagom.core.policies import "
   ]
  },
  {
   "cell_type": "code",
   "execution_count": 1,
   "metadata": {},
   "outputs": [],
   "source": [
    "import gym\n",
    "\n",
    "from gym_maze.envs import SparseMazeEnv\n",
    "from gym_maze.envs import RandomBlockMazeGenerator\n",
    "\n",
    "import numpy as np\n",
    "\n",
    "import argparse\n",
    "\n",
    "import os\n",
    "\n",
    "import torch\n",
    "import torch.optim as optim\n",
    "\n",
    "from lagom.agents import REINFORCEAgent\n",
    "from lagom.core.policies import CategoricalMLPGoalPolicy\n",
    "from lagom.runner import Runner\n",
    "from lagom.envs import EnvSpec\n",
    "\n",
    "maze = RandomBlockMazeGenerator(maze_size=4, obstacle_ratio=0.0)\n",
    "env = SparseMazeEnv(maze, action_type='VonNeumann', render_trace=False)\n",
    "env.init_state = [1, 1]\n",
    "env.goal_states = [[2, 2]]  #[[6, 6]]\n",
    "\n",
    "env_spec = EnvSpec(env)\n",
    "env_spec.get('goal_dim')\n",
    "env_spec.set('test', 3)"
   ]
  },
  {
   "cell_type": "code",
   "execution_count": 14,
   "metadata": {},
   "outputs": [],
   "source": []
  },
  {
   "cell_type": "code",
   "execution_count": 13,
   "metadata": {},
   "outputs": [],
   "source": [
    "import argparse\n",
    "\n",
    "parser = argparse.ArgumentParser(description='REINFORCE')\n",
    "parser.add_argument('--lr', type=float, default=1e-2, \n",
    "                    help='learning rate (default: 1e-2)')\n",
    "parser.add_argument('--gamma', type=float, default=0.99, \n",
    "                    help='discount factor (default: 0.99)')\n",
    "parser.add_argument('--seed', type=int, default=543, \n",
    "                    help='random seed (default: 543)')\n",
    "parser.add_argument('--render', action='store_true', \n",
    "                    help='render the environment')\n",
    "parser.add_argument('--log-interval', type=int, default=1,\n",
    "                    help='interval between training status logs (default: 1)')\n",
    "args = parser.parse_args([])\n",
    "args.beta = 5\n"
   ]
  },
  {
   "cell_type": "code",
   "execution_count": 4,
   "metadata": {},
   "outputs": [
    {
     "name": "stdout",
     "output_type": "stream",
     "text": [
      "------------------------------------------------- \n",
      "Iteration # 1\n",
      "\tLoss                          -0.042105\n",
      "\tNum Episodes                  1000\n",
      "\tAverage Return                0.614000\n",
      "\tStd Return                    0.486831\n",
      "\tMin Return                    0.000000\n",
      "\tMax Return                    1.000000\n",
      "------------------------------------------------- \n",
      "Iteration # 2\n",
      "\tLoss                          -0.484314\n",
      "\tNum Episodes                  1000\n",
      "\tAverage Return                0.833000\n",
      "\tStd Return                    0.372976\n",
      "\tMin Return                    0.000000\n",
      "\tMax Return                    1.000000\n",
      "------------------------------------------------- \n",
      "Iteration # 3\n",
      "\tLoss                          -0.862201\n",
      "\tNum Episodes                  1000\n",
      "\tAverage Return                0.922000\n",
      "\tStd Return                    0.268172\n",
      "\tMin Return                    0.000000\n",
      "\tMax Return                    1.000000\n",
      "------------------------------------------------- \n",
      "Iteration # 4\n",
      "\tLoss                          -1.093733\n",
      "\tNum Episodes                  1000\n",
      "\tAverage Return                0.979000\n",
      "\tStd Return                    0.143384\n",
      "\tMin Return                    0.000000\n",
      "\tMax Return                    1.000000\n",
      "------------------------------------------------- \n",
      "Iteration # 5\n",
      "\tLoss                          -1.056301\n",
      "\tNum Episodes                  1000\n",
      "\tAverage Return                0.998000\n",
      "\tStd Return                    0.044677\n",
      "\tMin Return                    0.000000\n",
      "\tMax Return                    1.000000\n"
     ]
    }
   ],
   "source": [
    "!python run_maze_goalpolicy.py --seed 543 --lr 1e-2 --log-interval 1"
   ]
  },
  {
   "cell_type": "code",
   "execution_count": null,
   "metadata": {},
   "outputs": [],
   "source": []
  },
  {
   "cell_type": "code",
   "execution_count": null,
   "metadata": {},
   "outputs": [],
   "source": []
  },
  {
   "cell_type": "code",
   "execution_count": null,
   "metadata": {},
   "outputs": [],
   "source": []
  },
  {
   "cell_type": "markdown",
   "metadata": {},
   "source": [
    "# Create file of running scripts"
   ]
  },
  {
   "cell_type": "code",
   "execution_count": 6,
   "metadata": {},
   "outputs": [],
   "source": [
    "import numpy as np\n",
    "import os\n",
    "from itertools import product\n",
    "\n",
    "import shutil\n",
    "\n",
    "list_seeds = np.random.randint(low=0, high=99999, size=10)\n",
    "list_lrs = 10**np.random.uniform(low=-6, high=1, size=10)  # numerical stability, see http://cs231n.github.io/neural-networks-3/#hyper\n",
    "\n",
    "# Clean up the old log directory if existed\n",
    "log_path = 'logs/'\n",
    "if os.path.exists(log_path):\n",
    "    shutil.rmtree(log_path)\n",
    "os.makedirs(log_path)\n",
    "\n",
    "# Clean up the old script.txt file if existed\n",
    "script_path = os.path.join(log_path, 'script.txt')\n",
    "if os.path.exists(script_path):\n",
    "    os.remove(script_path)\n",
    "\n",
    "for seed, lr in product(list_seeds, list_lrs):\n",
    "    script_str = '\\'python run_emptymaze.py --seed {:d} --lr {:f}\\''\n",
    "    \n",
    "    script_str = script_str.format(seed, lr)\n",
    "    \n",
    "    with open(script_path, 'a') as f:\n",
    "        f.write(script_str)\n",
    "        f.write('\\n\\n')\n",
    "    \n",
    "#cat logs/script.txt | xargs -n 1 -P 4 bash -c"
   ]
  },
  {
   "cell_type": "code",
   "execution_count": null,
   "metadata": {},
   "outputs": [],
   "source": []
  },
  {
   "cell_type": "markdown",
   "metadata": {},
   "source": [
    "# Visualization of learning dynamics\n",
    "### Average over different random seeds"
   ]
  },
  {
   "cell_type": "code",
   "execution_count": 102,
   "metadata": {},
   "outputs": [
    {
     "name": "stderr",
     "output_type": "stream",
     "text": [
      "/home/zuo/anaconda3/envs/RL/lib/python3.6/site-packages/matplotlib/figure.py:418: UserWarning: matplotlib is currently using a non-GUI backend, so cannot show the figure\n",
      "  \"matplotlib is currently using a non-GUI backend, \"\n"
     ]
    },
    {
     "data": {
      "image/png": "[encoded data removed]",
      "text/plain": [
       "<matplotlib.figure.Figure at 0x7f3ee487cf98>"
      ]
     },
     "metadata": {},
     "output_type": "display_data"
    }
   ],
   "source": [
    "import numpy as np\n",
    "from plotter import Plotter\n",
    "\n",
    "from glob import glob  # matching pathnames with patterns\n",
    "\n",
    "plotter = Plotter()\n",
    "\n",
    "scales = [0.5, 1.0]\n",
    "alphas = [0.3, 0.2]\n",
    "\n",
    "data = []\n",
    "for filepath in glob('logs/REINFORCE/*.npy'):\n",
    "    data.append(np.load(filepath))\n",
    "plotter.add_curve(data, \n",
    "                  color='blue', \n",
    "                  label='REINFORCE', \n",
    "                  uncertainty=True, \n",
    "                  scales=scales, \n",
    "                  alphas=alphas)\n",
    "\n",
    "data = []\n",
    "for filepath in glob('logs/ActorCritic/*.npy'):\n",
    "    data.append(np.load(filepath))\n",
    "plotter.add_curve(data, \n",
    "                  color='red', \n",
    "                  label='AC', \n",
    "                  uncertainty=True, \n",
    "                  scales=scales, \n",
    "                  alphas=alphas)\n",
    "\n",
    "title = 'Performance of REINFORCE on 6x6 empty maze (Initial at upper-left, Goal at bottom-right)'\n",
    "xlabel = 'Number of episodes'\n",
    "ylabel = 'Episodic rewards'\n",
    "fig = plotter.plot(title, xlabel, ylabel, log_x=True)\n",
    "fig.show()\n",
    "\n",
    "fig.savefig('logs/tmp.png')"
   ]
  },
  {
   "cell_type": "code",
   "execution_count": null,
   "metadata": {},
   "outputs": [],
   "source": []
  },
  {
   "cell_type": "code",
   "execution_count": null,
   "metadata": {},
   "outputs": [],
   "source": []
  },
  {
   "cell_type": "code",
   "execution_count": null,
   "metadata": {},
   "outputs": [],
   "source": []
  },
  {
   "cell_type": "code",
   "execution_count": null,
   "metadata": {},
   "outputs": [],
   "source": []
  },
  {
   "cell_type": "code",
   "execution_count": null,
   "metadata": {},
   "outputs": [],
   "source": []
  },
  {
   "cell_type": "code",
   "execution_count": null,
   "metadata": {},
   "outputs": [],
   "source": []
  },
  {
   "cell_type": "code",
   "execution_count": null,
   "metadata": {},
   "outputs": [],
   "source": []
  },
  {
   "cell_type": "code",
   "execution_count": null,
   "metadata": {},
   "outputs": [],
   "source": []
  },
  {
   "cell_type": "code",
   "execution_count": null,
   "metadata": {},
   "outputs": [],
   "source": []
  },
  {
   "cell_type": "code",
   "execution_count": null,
   "metadata": {},
   "outputs": [],
   "source": []
  },
  {
   "cell_type": "code",
   "execution_count": null,
   "metadata": {},
   "outputs": [],
   "source": []
  }
 ],
 "metadata": {
  "kernelspec": {
   "display_name": "Python 3",
   "language": "python",
   "name": "python3"
  },
  "language_info": {
   "codemirror_mode": {
    "name": "ipython",
    "version": 3
   },
   "file_extension": ".py",
   "mimetype": "text/x-python",
   "name": "python",
   "nbconvert_exporter": "python",
   "pygments_lexer": "ipython3",
   "version": "3.6.3"
  }
 },
 "nbformat": 4,
 "nbformat_minor": 2
}
