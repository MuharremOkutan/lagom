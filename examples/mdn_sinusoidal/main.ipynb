{
 "cells": [
  {
   "cell_type": "code",
   "execution_count": 1,
   "metadata": {},
   "outputs": [],
   "source": [
    "# TEMP: Import lagom\n",
    "# Not useful once lagom is installed\n",
    "import sys\n",
    "sys.path.append('/home/zuo/Code/lagom/')"
   ]
  },
  {
   "cell_type": "markdown",
   "metadata": {},
   "source": [
    "# 1. Data generation"
   ]
  },
  {
   "cell_type": "code",
   "execution_count": 2,
   "metadata": {},
   "outputs": [],
   "source": [
    "import numpy as np\n",
    "\n",
    "import torch\n",
    "from torch.utils.data import Dataset, DataLoader\n",
    "\n",
    "\n",
    "class Data(Dataset):\n",
    "    \"\"\"\n",
    "    Generate a set of data point of an inverted sinusoidal function. \n",
    "    i.e. y(x) = 7sin(0.75x) + 0.5x + eps, eps~N(0, 1)\n",
    "    \n",
    "    Then we ask the neural networks to predict x given y, in __getitem__(). \n",
    "    In this case, the classic NN suffers due to only one output given input. \n",
    "    To address it, one can use Mixture Density Networks. \n",
    "    \"\"\"\n",
    "    def __init__(self, n):\n",
    "        self.n = n\n",
    "        self.x, self.y = self._generate_data(self.n)\n",
    "    \n",
    "    def _generate_data(self, n):\n",
    "        eps = np.random.randn(n)\n",
    "        x = np.random.uniform(low=-10.5, high=10.5, size=n)\n",
    "        y = 7*np.sin(0.75*x) + 0.5*x + eps\n",
    "        \n",
    "        return np.float32(x), np.float32(y)  # Enforce the dtype to be float32, i.e. FloatTensor in PyTorch\n",
    "    \n",
    "    def __len__(self):\n",
    "        return self.n\n",
    "    \n",
    "    def __getitem__(self, index):\n",
    "        # Retrieve the x, y value\n",
    "        x = self.x[index]\n",
    "        y = self.y[index]\n",
    "        # Keep array shape due to scalar value\n",
    "        x = np.array([x], dtype=np.float32)\n",
    "        y = np.array([y], dtype=np.float32)\n",
    "\n",
    "        return y, x"
   ]
  },
  {
   "cell_type": "markdown",
   "metadata": {},
   "source": [
    "# 2. Training"
   ]
  },
  {
   "cell_type": "code",
   "execution_count": null,
   "metadata": {},
   "outputs": [
    {
     "name": "stdout",
     "output_type": "stream",
     "text": [
      "Epoch: 1\t Loss: 6.8650190234184265\n"
     ]
    }
   ],
   "source": [
    "import torch.nn.functional as F\n",
    "import torch.optim as optim\n",
    "\n",
    "from lagom.core.networks import MDN\n",
    "\n",
    "device = torch.device('cuda')\n",
    "\n",
    "D = Data(2500)\n",
    "train_loader = DataLoader(D, batch_size=64)\n",
    "\n",
    "model = MDN(input_dim=1, \n",
    "            output_dim=1, \n",
    "            num_densities=5, \n",
    "            hidden_sizes=[20], \n",
    "            hidden_nonlinearity=F.relu)\n",
    "model = model.to(device)\n",
    "\n",
    "optimizer = optim.Adam(model.parameters(), lr=1e-3)\n",
    "\n",
    "\n",
    "for i in range(2000):\n",
    "    model.train()\n",
    "    \n",
    "    losses = []\n",
    "    for data, target in train_loader:\n",
    "        data = data.to(device)\n",
    "        target = target.to(device)\n",
    "        \n",
    "        optimizer.zero_grad()\n",
    "        log_pi, mu, std = model(data)\n",
    "        loss = model.MDN_loss(log_pi=log_pi, mu=mu, std=std, target=target)\n",
    "        loss.backward()\n",
    "        losses.append(loss.item())\n",
    "        optimizer.step()\n",
    "        \n",
    "    if i == 0 or (i+1)%100 == 0:\n",
    "        #IPython.display.clear_output(wait=True)\n",
    "        print(f'Epoch: {i+1}\\t Loss: {np.mean(losses)}')\n",
    "    "
   ]
  },
  {
   "cell_type": "markdown",
   "metadata": {},
   "source": [
    "# 3. Evaluation"
   ]
  },
  {
   "cell_type": "code",
   "execution_count": null,
   "metadata": {},
   "outputs": [],
   "source": [
    "import matplotlib.pyplot as plt\n",
    "\n",
    "test_data = torch.tensor(np.linspace(-15, 15, num=1000, dtype=np.float32), device=device).unsqueeze(1)\n",
    "log_pi, mu, std = model(test_data)\n",
    "samples = model.sample(log_pi=log_pi, mu=mu, std=std)\n",
    "samples.detach().cpu().numpy()\n",
    "\n",
    "plt.figure(figsize=[6, 6])\n",
    "plt.scatter(D.y, D.x, alpha=0.2)\n",
    "plt.scatter(test_data.detach().cpu().numpy(), samples.detach().cpu().numpy(), alpha=0.2, color='red')\n",
    "plt.show()"
   ]
  }
 ],
 "metadata": {
  "kernelspec": {
   "display_name": "Python 3",
   "language": "python",
   "name": "python3"
  },
  "language_info": {
   "codemirror_mode": {
    "name": "ipython",
    "version": 3
   },
   "file_extension": ".py",
   "mimetype": "text/x-python",
   "name": "python",
   "nbconvert_exporter": "python",
   "pygments_lexer": "ipython3",
   "version": "3.6.5"
  }
 },
 "nbformat": 4,
 "nbformat_minor": 2
}
