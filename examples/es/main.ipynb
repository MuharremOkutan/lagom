{
 "cells": [
  {
   "cell_type": "code",
   "execution_count": 1,
   "metadata": {},
   "outputs": [],
   "source": [
    "# TEMP: Import lagom\n",
    "# Not useful once lagom is installed\n",
    "import sys\n",
    "sys.path.append('/home/zuo/Code/lagom/')"
   ]
  },
  {
   "cell_type": "code",
   "execution_count": 2,
   "metadata": {},
   "outputs": [],
   "source": [
    "from lagom.contrib import CMAES, OpenAIES, ESOptimizer"
   ]
  },
  {
   "cell_type": "code",
   "execution_count": 3,
   "metadata": {},
   "outputs": [],
   "source": [
    "def solve(es_optimizer, max_iter, log_interval=1):\n",
    "    \"\"\"\n",
    "    Solve\n",
    "    \n",
    "    Args:\n",
    "        es_optimizer (ESOptimizer): ES optimizer\n",
    "        max_iter (int): maximum number of iterations (generations)\n",
    "        log_interval (int): log interval\n",
    "    \"\"\"\n",
    "    list_best_f_val = []\n",
    "    \n",
    "    for i in range(max_iter):\n",
    "        # Perform one iteration\n",
    "        results = es_optimizer.step()\n",
    "        \n",
    "        # Logging\n",
    "        best_f_val = results['best_f_val']\n",
    "        list_best_f_val.append(best_f_val)\n",
    "        if i == 0 or (i+1)%log_interval == 0:\n",
    "            print(f'Objective function value at iteration #{i+1}: {best_f_val}')\n",
    "    \n",
    "    # Final logging\n",
    "    best_param = results['best_param']\n",
    "    print(f'# Local optimum discovered by ES solver: {best_param}')\n",
    "    print(f'# Its objective function value: {best_f_val}')\n",
    "    \n",
    "    return list_best_f_val"
   ]
  },
  {
   "cell_type": "code",
   "execution_count": 6,
   "metadata": {},
   "outputs": [
    {
     "data": {
      "image/png": "[encoded data removed]",
      "text/plain": [
       "<Figure size 432x288 with 1 Axes>"
      ]
     },
     "execution_count": 6,
     "metadata": {},
     "output_type": "execute_result"
    },
    {
     "data": {
      "image/png": "[encoded data removed]",
      "text/plain": [
       "<Figure size 432x288 with 1 Axes>"
      ]
     },
     "metadata": {},
     "output_type": "display_data"
    }
   ],
   "source": [
    "import matplotlib.pyplot as plt\n",
    "import numpy as np\n",
    "\n",
    "\n",
    "class TestFunctions(object):\n",
    "    def __call__(self, x):\n",
    "        raise NotImplementedError\n",
    "        \n",
    "        \n",
    "class Rastrigin(TestFunctions):\n",
    "    \"\"\"\n",
    "    Rastrigin test objective function for optimization\n",
    "    https://en.wikipedia.org/wiki/Test_functions_for_optimization\n",
    "    \"\"\"\n",
    "    def __init__(self):\n",
    "        self.search_domain = [-5.12, 5.12]\n",
    "    \n",
    "    def __call__(self, x):\n",
    "        A = 10\n",
    "        y = A*len(x)\n",
    "        for x_part in x:\n",
    "            y += x_part**2 - A*np.cos(2*np.pi*x_part)\n",
    "\n",
    "        return y\n",
    "\n",
    "class Sphere(TestFunctions):\n",
    "    def __init__(self, min=-1000, max=1000):\n",
    "        self.search_domain = [min, max]\n",
    "    \n",
    "    def __call__(self, x):\n",
    "        y = 0.0\n",
    "        for x_part in x:\n",
    "            y += x_part**2\n",
    "\n",
    "        return y\n",
    "    \n",
    "class StyblinskiTang(TestFunctions):\n",
    "    def __init__(self):\n",
    "        self.search_domain = [-5, 5]\n",
    "    \n",
    "    def __call__(self, x):\n",
    "        y = 0.0\n",
    "        for x_part in x:\n",
    "            y += x_part**4 - 16*x_part**2 + 5*x_part\n",
    "\n",
    "        return 0.5*y\n",
    "    \n",
    "class HolderTable(TestFunctions):\n",
    "    def __init__(self):\n",
    "        self.search_domain = [-10, 10]\n",
    "    \n",
    "    def __call__(self, x):\n",
    "        x, y = x\n",
    "        \n",
    "        y = -np.abs(np.sin(x)*np.cos(y)*np.exp(np.abs(1 - np.sqrt(x**2 + y**2)/np.pi)))\n",
    "        \n",
    "        return y\n",
    "\n",
    "def plot_contour(f, num_points=100):\n",
    "    x = np.linspace(*f.search_domain, num=num_points)\n",
    "    y = np.linspace(*f.search_domain, num=num_points)\n",
    "    x, y = np.meshgrid(x, y)\n",
    "    \n",
    "    # Compute function values\n",
    "    z = f([x, y])\n",
    "    \n",
    "    fig, ax = plt.subplots(1, 1)\n",
    "    ax.contourf(x, y, z, cmap='jet')\n",
    "    \n",
    "    return fig\n",
    "\n",
    "plot_contour(Rastrigin())"
   ]
  },
  {
   "cell_type": "code",
   "execution_count": 22,
   "metadata": {},
   "outputs": [
    {
     "name": "stdout",
     "output_type": "stream",
     "text": [
      "(6_w,12)-aCMA-ES (mu_w=3.7,w_1=40%) in dimension 100 (seed=1013880, Wed Jun 13 18:03:46 2018)\n",
      "Objective function value at iteration #1: 1764.4671939258203\n",
      "Objective function value at iteration #100: 1030.7656986923437\n",
      "Objective function value at iteration #200: 969.5468335221799\n",
      "Objective function value at iteration #300: 910.5577233182464\n",
      "Objective function value at iteration #400: 868.1819679754539\n",
      "Objective function value at iteration #500: 899.4046531323746\n",
      "Objective function value at iteration #600: 876.7296434627792\n",
      "Objective function value at iteration #700: 859.5932512758741\n",
      "Objective function value at iteration #800: 792.3214993206313\n",
      "Objective function value at iteration #900: 652.3639114331461\n",
      "Objective function value at iteration #1000: 692.8299659020638\n",
      "# Local optimum discovered by ES solver: [ 0.13272288  0.57248041  0.77188707 -0.11310561 -0.7463781  -1.25149884\n",
      "  1.02206668  1.38523609  1.0618114  -0.0134282  -1.02949338  0.00618444\n",
      " -0.88748914  2.75462668 -1.42866848 -0.13525942 -0.92085283  0.601386\n",
      "  2.17994344  2.52071373 -0.26935948  0.85108453  0.16326434 -0.06926712\n",
      " -1.01542814 -0.21051036  0.22905766 -1.07440012  0.8152347   0.21316239\n",
      "  0.1682175   0.29342309  1.09842123  0.46314674  0.92765463 -1.07526396\n",
      "  2.34928039 -0.09772324  0.86002722  2.02848171 -0.72216758 -0.18455908\n",
      " -1.16144714 -0.92065275  0.04331729 -1.13626357 -0.88701288 -1.32446124\n",
      "  0.58511102 -1.19155933  0.75856052 -0.94266618  0.12554984 -0.08518817\n",
      "  2.7646721  -0.83621639  2.52097031 -0.88662393  1.1686703   0.0043818\n",
      "  0.77100631  1.209349   -1.97801299  0.79666078  0.41949223 -0.03824168\n",
      " -0.8635575   0.11178796  2.96769804  0.91415784 -0.00961028 -1.91371167\n",
      "  0.06301829 -0.84094986 -1.03000212 -1.23606474  0.21344037 -0.03887171\n",
      "  0.98519633 -1.77570691 -1.01729607 -0.04189887  0.24546098 -0.66810036\n",
      " -0.05078958  1.08310709  1.07223104 -1.20103632 -0.20714638  0.19130581\n",
      "  1.59769585 -0.00751492 -0.97574634 -0.10117428 -1.08412088  2.6690771\n",
      " -0.75462138  0.02078012  0.09453597  0.04368403]\n",
      "# Its objective function value: 692.8299659020638\n",
      "Total time: 19.4 s\n"
     ]
    }
   ],
   "source": [
    "from time import time\n",
    "\n",
    "t = time()\n",
    "\n",
    "# Seeding\n",
    "seed = 0\n",
    "np.random.seed(seed)\n",
    "\n",
    "cmaes = CMAES(mu0=[3]*100, \n",
    "              std0=0.5, \n",
    "              popsize=12)\n",
    "\n",
    "openaies = OpenAIES(mu0=[3]*100, \n",
    "                    std0=0.5, \n",
    "                    popsize=50, \n",
    "                    std_decay=0.999,\n",
    "                    min_std=0.01, \n",
    "                    lr=1e-1, \n",
    "                    lr_decay=1.0, \n",
    "                    min_lr=1e-1, \n",
    "                    antithetic=True, \n",
    "                    rank_transform=False)\n",
    "\n",
    "es_optimizer = ESOptimizer(openaies, Rastrigin())\n",
    "result = solve(es_optimizer=es_optimizer, \n",
    "               max_iter=1000, \n",
    "               log_interval=100)\n",
    "\n",
    "print(f'Total time: {time() - t:.3} s')"
   ]
  },
  {
   "cell_type": "code",
   "execution_count": 15,
   "metadata": {},
   "outputs": [
    {
     "data": {
      "image/png": "[encoded data removed]",
      "text/plain": [
       "<Figure size 432x288 with 1 Axes>"
      ]
     },
     "metadata": {},
     "output_type": "display_data"
    }
   ],
   "source": [
    "import matplotlib.pyplot as plt\n",
    "\n",
    "plt.plot(result_cmaes, label='CMAES')\n",
    "plt.plot(result_openaies, label='OpenAI ES')\n",
    "plt.title('Optimize rastrigin function')\n",
    "plt.legend()\n",
    "\n",
    "plt.savefig('tmp.png')"
   ]
  },
  {
   "cell_type": "code",
   "execution_count": 6,
   "metadata": {},
   "outputs": [
    {
     "ename": "NameError",
     "evalue": "name 'cmaes' is not defined",
     "output_type": "error",
     "traceback": [
      "\u001b[0;31m---------------------------------------------------------------------------\u001b[0m",
      "\u001b[0;31mNameError\u001b[0m                                 Traceback (most recent call last)",
      "\u001b[0;32m<ipython-input-6-8bd2b04353d3>\u001b[0m in \u001b[0;36m<module>\u001b[0;34m()\u001b[0m\n\u001b[0;32m----> 1\u001b[0;31m \u001b[0mes_optimizer\u001b[0m \u001b[0;34m=\u001b[0m \u001b[0mESOptimizer\u001b[0m\u001b[0;34m(\u001b[0m\u001b[0mcmaes\u001b[0m\u001b[0;34m,\u001b[0m \u001b[0mRastrigin\u001b[0m\u001b[0;34m(\u001b[0m\u001b[0;34m)\u001b[0m\u001b[0;34m)\u001b[0m\u001b[0;34m\u001b[0m\u001b[0m\n\u001b[0m\u001b[1;32m      2\u001b[0m result_cmaes = solve(es_optimizer=es_optimizer, \n\u001b[1;32m      3\u001b[0m                \u001b[0mmax_iter\u001b[0m\u001b[0;34m=\u001b[0m\u001b[0;36m4000\u001b[0m\u001b[0;34m,\u001b[0m\u001b[0;34m\u001b[0m\u001b[0m\n\u001b[1;32m      4\u001b[0m                log_interval=100)\n",
      "\u001b[0;31mNameError\u001b[0m: name 'cmaes' is not defined"
     ]
    }
   ],
   "source": [
    "es_optimizer = ESOptimizer(cmaes, Rastrigin())\n",
    "result_cmaes = solve(es_optimizer=es_optimizer, \n",
    "               max_iter=4000, \n",
    "               log_interval=100)"
   ]
  },
  {
   "cell_type": "code",
   "execution_count": 14,
   "metadata": {},
   "outputs": [],
   "source": [
    "result_openaies = result"
   ]
  }
 ],
 "metadata": {
  "kernelspec": {
   "display_name": "Python 3",
   "language": "python",
   "name": "python3"
  },
  "language_info": {
   "codemirror_mode": {
    "name": "ipython",
    "version": 3
   },
   "file_extension": ".py",
   "mimetype": "text/x-python",
   "name": "python",
   "nbconvert_exporter": "python",
   "pygments_lexer": "ipython3",
   "version": "3.6.5"
  }
 },
 "nbformat": 4,
 "nbformat_minor": 2
}
