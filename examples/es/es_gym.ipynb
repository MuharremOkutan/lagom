{
 "cells": [
  {
   "cell_type": "code",
   "execution_count": null,
   "metadata": {},
   "outputs": [],
   "source": [
    "# TEMP: Import lagom\n",
    "# Not useful once lagom is installed\n",
    "import sys\n",
    "sys.path.append('/home/zuo/Code/lagom/')"
   ]
  },
  {
   "cell_type": "markdown",
   "metadata": {},
   "source": [
    "# Evolution strategies on OpenAI gym environment"
   ]
  },
  {
   "cell_type": "markdown",
   "metadata": {},
   "source": []
  },
  {
   "cell_type": "code",
   "execution_count": 4,
   "metadata": {},
   "outputs": [],
   "source": [
    "import gym\n",
    "\n",
    "\n",
    "def make_env():\n",
    "    env = gym.make('Pendulum-v0')\n",
    "    \n",
    "    return env"
   ]
  },
  {
   "cell_type": "code",
   "execution_count": null,
   "metadata": {},
   "outputs": [],
   "source": [
    "from lagom.core.es import CMAES, OpenAIES\n",
    "\n",
    "from lagom.core.es import BaseESWorker\n",
    "from lagom.core.es import BaseGymESMaster\n",
    "\n",
    "\n",
    "class ESWorker(BaseESWorker):\n",
    "    def f(self, solution, seed):\n",
    "        solution, make_env = solution\n",
    "        \n",
    "        env = make_env()\n",
    "        \n",
    "        \n",
    "        \n",
    "        function_value = rastrigin(solution)\n",
    "        \n",
    "        return function_value\n",
    "    \n",
    "\n",
    "class ESMaster(BaseGymESMaster):\n",
    "    def make_es(self):\n",
    "        cmaes = CMAES(mu0=[3]*100, \n",
    "                      std0=0.5, \n",
    "                      popsize=12)\n",
    "        \n",
    "        return cmaes\n",
    "        \n",
    "    def _process_es_result(self, result):\n",
    "        best_f_val = result['best_f_val']\n",
    "        if self.generation == 0 or (self.generation+1) % 100 == 0:\n",
    "            print(f'Best function value at generation {self.generation+1}: {best_f_val}')\n",
    "            \n",
    "            \n",
    "            \n",
    "es = ESMaster(num_iteration=1000, \n",
    "              worker_class=ESWorker, \n",
    "              num_worker=12, \n",
    "              init_seed=0, \n",
    "              daemonic_worker=None)\n",
    "\n",
    "es()"
   ]
  },
  {
   "cell_type": "code",
   "execution_count": null,
   "metadata": {},
   "outputs": [],
   "source": []
  },
  {
   "cell_type": "code",
   "execution_count": null,
   "metadata": {},
   "outputs": [],
   "source": []
  },
  {
   "cell_type": "code",
   "execution_count": null,
   "metadata": {},
   "outputs": [],
   "source": []
  }
 ],
 "metadata": {
  "kernelspec": {
   "display_name": "Python 3",
   "language": "python",
   "name": "python3"
  },
  "language_info": {
   "codemirror_mode": {
    "name": "ipython",
    "version": 3
   },
   "file_extension": ".py",
   "mimetype": "text/x-python",
   "name": "python",
   "nbconvert_exporter": "python",
   "pygments_lexer": "ipython3",
   "version": "3.6.6"
  }
 },
 "nbformat": 4,
 "nbformat_minor": 2
}
