{
 "cells": [
  {
   "cell_type": "code",
   "execution_count": null,
   "metadata": {},
   "outputs": [],
   "source": [
    "# TEMP: Import lagom\n",
    "# Not useful once lagom is installed\n",
    "import sys\n",
    "sys.path.append('/home/zuo/Code/lagom/')"
   ]
  },
  {
   "cell_type": "code",
   "execution_count": null,
   "metadata": {},
   "outputs": [],
   "source": []
  },
  {
   "cell_type": "markdown",
   "metadata": {},
   "source": [
    "# 1. Generate data"
   ]
  },
  {
   "cell_type": "code",
   "execution_count": 6,
   "metadata": {},
   "outputs": [
    {
     "ename": "ModuleNotFoundError",
     "evalue": "No module named 'Box2D'",
     "output_type": "error",
     "traceback": [
      "\u001b[0;31m---------------------------------------------------------------------------\u001b[0m",
      "\u001b[0;31mModuleNotFoundError\u001b[0m                       Traceback (most recent call last)",
      "\u001b[0;32m<ipython-input-6-078fcea5ceaf>\u001b[0m in \u001b[0;36m<module>\u001b[0;34m()\u001b[0m\n\u001b[1;32m      2\u001b[0m \u001b[0;32mimport\u001b[0m \u001b[0mnumpy\u001b[0m \u001b[0;32mas\u001b[0m \u001b[0mnp\u001b[0m\u001b[0;34m\u001b[0m\u001b[0m\n\u001b[1;32m      3\u001b[0m \u001b[0;34m\u001b[0m\u001b[0m\n\u001b[0;32m----> 4\u001b[0;31m \u001b[0;32mfrom\u001b[0m \u001b[0mcar_racing\u001b[0m \u001b[0;32mimport\u001b[0m \u001b[0mCarRacing\u001b[0m\u001b[0;34m\u001b[0m\u001b[0m\n\u001b[0m\u001b[1;32m      5\u001b[0m \u001b[0;34m\u001b[0m\u001b[0m\n\u001b[1;32m      6\u001b[0m \u001b[0;34m\u001b[0m\u001b[0m\n",
      "\u001b[0;32m~/Code/lagom/examples/world_models/car_racing.py\u001b[0m in \u001b[0;36m<module>\u001b[0;34m()\u001b[0m\n\u001b[1;32m      2\u001b[0m \u001b[0;32mimport\u001b[0m \u001b[0mnumpy\u001b[0m \u001b[0;32mas\u001b[0m \u001b[0mnp\u001b[0m\u001b[0;34m\u001b[0m\u001b[0m\n\u001b[1;32m      3\u001b[0m \u001b[0;34m\u001b[0m\u001b[0m\n\u001b[0;32m----> 4\u001b[0;31m \u001b[0;32mimport\u001b[0m \u001b[0mBox2D\u001b[0m\u001b[0;34m\u001b[0m\u001b[0m\n\u001b[0m\u001b[1;32m      5\u001b[0m \u001b[0;32mfrom\u001b[0m \u001b[0mBox2D\u001b[0m\u001b[0;34m.\u001b[0m\u001b[0mb2\u001b[0m \u001b[0;32mimport\u001b[0m \u001b[0;34m(\u001b[0m\u001b[0medgeShape\u001b[0m\u001b[0;34m,\u001b[0m \u001b[0mcircleShape\u001b[0m\u001b[0;34m,\u001b[0m \u001b[0mfixtureDef\u001b[0m\u001b[0;34m,\u001b[0m \u001b[0mpolygonShape\u001b[0m\u001b[0;34m,\u001b[0m \u001b[0mrevoluteJointDef\u001b[0m\u001b[0;34m,\u001b[0m \u001b[0mcontactListener\u001b[0m\u001b[0;34m)\u001b[0m\u001b[0;34m\u001b[0m\u001b[0m\n\u001b[1;32m      6\u001b[0m \u001b[0;34m\u001b[0m\u001b[0m\n",
      "\u001b[0;31mModuleNotFoundError\u001b[0m: No module named 'Box2D'"
     ]
    }
   ],
   "source": [
    "import random\n",
    "import numpy as np\n",
    "\n",
    "from car_racing import CarRacing\n",
    "\n",
    "\n",
    "def make_env(seed=None, render_mode=False):\n",
    "    env = CarRacing()\n",
    "    if seed is not None:\n",
    "        env.seed(seed)\n",
    "        \n",
    "    return env\n",
    "\n",
    "def process_action(t, current_action):\n",
    "    if t < 60:\n",
    "        return np.array([0,1,0])\n",
    "    \n",
    "    if t % 5 > 0:\n",
    "        return current_action\n",
    "\n",
    "    rn = random.randint(0,9)\n",
    "    if rn in [0]:\n",
    "        return np.array([0,0,0])\n",
    "    if rn in [1,2,3,4]:\n",
    "        return np.array([0,random.random(),0])\n",
    "    if rn in [5,6,7]:\n",
    "        return np.array([-random.random(),0,0])\n",
    "    if rn in [8]:\n",
    "        return np.array([random.random(),0,0])\n",
    "    if rn in [9]:\n",
    "        return np.array([0,0,random.random()])\n",
    "\n",
    "def adjust_obs(obs):\n",
    "    return obs.astype('float32') / 255.\n",
    "\n",
    "def generate_data(N, T, batch_size):\n",
    "    assert N % batch_size == 0\n",
    "    \n",
    "    env = make_env()\n",
    "    \n",
    "    for i in range(N//batch_size):\n",
    "        data = []\n",
    "\n",
    "        for j in range(batch_size):\n",
    "            epi_obs = []\n",
    "            epi_action = []\n",
    "\n",
    "            obs = adjust_obs(env.reset())\n",
    "            a = env.action_space.sample()\n",
    "\n",
    "            for t in range(T):\n",
    "                a = process_action(t, a)\n",
    "\n",
    "                epi_obs.append(obs)\n",
    "                epi_action.append(a)\n",
    "\n",
    "                observation, reward, done, info = env.step(a)\n",
    "                obs = adjust_obs(observation)\n",
    "\n",
    "                #env.render()\n",
    "\n",
    "            data.append({'obs': epi_obs, 'action': epi_action})\n",
    "            print(f'Batch {i}: collected {j}/{batch_size} episodes. ')\n",
    "            \n",
    "\n",
    "        np.save(f'logs/data_{i}', data)\n",
    "        print(f'===> Finish collecting {(i+1)*batch_size}/{N} episodes')\n",
    "    \n",
    "    env.close()\n",
    "            \n",
    "generate_data(2000, 300, 200)\n"
   ]
  },
  {
   "cell_type": "code",
   "execution_count": null,
   "metadata": {},
   "outputs": [],
   "source": []
  },
  {
   "cell_type": "code",
   "execution_count": null,
   "metadata": {},
   "outputs": [],
   "source": []
  },
  {
   "cell_type": "code",
   "execution_count": null,
   "metadata": {},
   "outputs": [],
   "source": []
  },
  {
   "cell_type": "code",
   "execution_count": null,
   "metadata": {},
   "outputs": [],
   "source": []
  },
  {
   "cell_type": "code",
   "execution_count": null,
   "metadata": {},
   "outputs": [],
   "source": []
  }
 ],
 "metadata": {
  "kernelspec": {
   "display_name": "Python 3",
   "language": "python",
   "name": "python3"
  },
  "language_info": {
   "codemirror_mode": {
    "name": "ipython",
    "version": 3
   },
   "file_extension": ".py",
   "mimetype": "text/x-python",
   "name": "python",
   "nbconvert_exporter": "python",
   "pygments_lexer": "ipython3",
   "version": "3.6.5"
  }
 },
 "nbformat": 4,
 "nbformat_minor": 2
}
